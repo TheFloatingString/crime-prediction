{
 "cells": [
  {
   "cell_type": "code",
   "execution_count": 1,
   "metadata": {},
   "outputs": [
    {
     "name": "stderr",
     "output_type": "stream",
     "text": [
      "Using TensorFlow backend.\n"
     ]
    }
   ],
   "source": [
    "import pandas as pd\n",
    "import numpy as np\n",
    "import datetime\n",
    "import os\n",
    "from sklearn.model_selection import train_test_split\n",
    "\n",
    "from keras.models import load_model\n",
    "from sklearn.utils.class_weight import compute_class_weight\n",
    "from tensorflow.keras.models import Sequential \n",
    "from tensorflow.keras.layers import Dense, Dropout, Activation, Flatten\n",
    "from tensorflow.keras.callbacks import TensorBoard\n",
    "import time"
   ]
  },
  {
   "cell_type": "code",
   "execution_count": 2,
   "metadata": {},
   "outputs": [
    {
     "name": "stdout",
     "output_type": "stream",
     "text": [
      "(1648, 20) (1648, 10)\n"
     ]
    }
   ],
   "source": [
    "weather_data = np.load(\"../preprocessed_data/X_train_weather.npy\")\n",
    "nasdaq_data = np.load(\"../preprocessed_data/X_train_nasdaq.npy\")\n",
    "print(weather_data.shape, nasdaq_data.shape)"
   ]
  },
  {
   "cell_type": "code",
   "execution_count": 3,
   "metadata": {},
   "outputs": [
    {
     "name": "stdout",
     "output_type": "stream",
     "text": [
      "1648\n"
     ]
    }
   ],
   "source": [
    "base = datetime.datetime.strptime(\"2015-01-01\", \"%Y-%m-%d\")\n",
    "end = datetime.datetime.strptime(\"2019-07-06\", \"%Y-%m-%d\")\n",
    "delta = end - base\n",
    "unique_PI_dates = [str(base + datetime.timedelta(days=x)).split(' ')[0] for x in range(delta.days + 1)]\n",
    "print(len(unique_PI_dates))"
   ]
  },
  {
   "cell_type": "code",
   "execution_count": 4,
   "metadata": {},
   "outputs": [],
   "source": [
    "def balance_crime_training_data(X, y):\n",
    "    no_crime = [x for x in y if list(x) == [1.0, 0.0, 0.0, 0.0, 0.0, 0.0, 0.0]]\n",
    "    crime_lvl1 = [x for x in y if list(x) == [0.0, 1.0, 0.0, 0.0, 0.0, 0.0, 0.0]]\n",
    "    crime_lvl2 = [x for x in y if list(x) == [0.0, 0.0, 1.0, 0.0, 0.0, 0.0, 0.0]]\n",
    "    crime_lvl3 = [x for x in y if list(x) == [0.0, 0.0, 0.0, 1.0, 0.0, 0.0, 0.0]]\n",
    "    crime_lvl4 = [x for x in y if list(x) == [0.0, 0.0, 0.0, 0.0, 1.0, 0.0, 0.0]]\n",
    "    crime_lvl5 = [x for x in y if list(x) == [0.0, 0.0, 0.0, 0.0, 0.0, 1.0, 0.0]]\n",
    "    crime_lvl6 = [x for x in y if list(x) == [0.0, 0.0, 0.0, 0.0, 0.0, 0.0, 1.0]]\n",
    "    \n",
    "    print(len(no_crime), len(crime_lvl1), len(crime_lvl2), len(crime_lvl3), len(crime_lvl4), len(crime_lvl5), len(crime_lvl6))"
   ]
  },
  {
   "cell_type": "code",
   "execution_count": 5,
   "metadata": {},
   "outputs": [
    {
     "name": "stdout",
     "output_type": "stream",
     "text": [
      "0 0 0 0 0 0 0\n",
      "(1648, 33) (1648, 6)\n",
      "0 0 0 0 0 0 0\n",
      "(1648, 33) (1648, 6)\n",
      "0 0 0 0 0 0 0\n",
      "(1648, 33) (1648, 6)\n",
      "0 0 0 0 0 0 0\n",
      "(1648, 33) (1648, 6)\n",
      "0 0 0 0 0 0 0\n",
      "(1648, 33) (1648, 6)\n",
      "0 0 0 0 0 0 0\n",
      "(1648, 33) (1648, 6)\n",
      "0 0 0 0 0 0 0\n",
      "(1648, 33) (1648, 6)\n",
      "0 0 0 0 0 0 0\n",
      "(1648, 33) (1648, 6)\n",
      "0 0 0 0 0 0 0\n",
      "(1648, 33) (1648, 6)\n",
      "0 0 0 0 0 0 0\n",
      "(1648, 33) (1648, 6)\n",
      "0 0 0 0 0 0 0\n",
      "(1648, 33) (1648, 6)\n",
      "0 0 0 0 0 0 0\n",
      "(1648, 33) (1648, 6)\n",
      "0 0 0 0 0 0 0\n",
      "(1648, 33) (1648, 6)\n",
      "0 0 0 0 0 0 0\n",
      "(1648, 33) (1648, 6)\n",
      "0 0 0 0 0 0 0\n",
      "(1648, 33) (1648, 6)\n",
      "0 0 0 0 0 0 0\n",
      "(1648, 33) (1648, 6)\n",
      "0 0 0 0 0 0 0\n",
      "(1648, 33) (1648, 6)\n",
      "0 0 0 0 0 0 0\n",
      "(1648, 33) (1648, 6)\n",
      "0 0 0 0 0 0 0\n",
      "(1648, 33) (1648, 6)\n",
      "0 0 0 0 0 0 0\n",
      "(1648, 33) (1648, 6)\n",
      "0 0 0 0 0 0 0\n",
      "(1648, 33) (1648, 6)\n",
      "0 0 0 0 0 0 0\n",
      "(1648, 33) (1648, 6)\n",
      "0 0 0 0 0 0 0\n",
      "(1648, 33) (1648, 6)\n",
      "0 0 0 0 0 0 0\n",
      "(1648, 33) (1648, 6)\n",
      "0 0 0 0 0 0 0\n",
      "(1648, 33) (1648, 6)\n",
      "0 0 0 0 0 0 0\n",
      "(1648, 33) (1648, 6)\n",
      "0 0 0 0 0 0 0\n",
      "(1648, 33) (1648, 6)\n",
      "0 0 0 0 0 0 0\n",
      "(1648, 33) (1648, 6)\n",
      "0 0 0 0 0 0 0\n",
      "(1648, 33) (1648, 6)\n",
      "0 0 0 0 0 0 0\n",
      "(1648, 33) (1648, 6)\n",
      "0 0 0 0 0 0 0\n",
      "(1648, 33) (1648, 6)\n",
      "0 0 0 0 0 0 0\n",
      "(1648, 33) (1648, 6)\n",
      "0 0 0 0 0 0 0\n",
      "(1648, 33) (1648, 6)\n",
      "0 0 0 0 0 0 0\n",
      "(1648, 33) (1648, 6)\n"
     ]
    }
   ],
   "source": [
    "pdq_list = [1.0, 3.0, 4.0, 5.0, 7.0, 8.0, 9.0, \n",
    "            10.0, 11.0, 12.0, 13.0, 15.0, 16.0, \n",
    "            20.0, 21.0, 22.0, 23.0, 24.0, 26.0, \n",
    "            27.0, 30.0, 31.0, 33.0, 35.0, 38.0, \n",
    "            39.0, 42.0, 44.0, 45.0, 46.0, 48.0, \n",
    "            49.0, 50.0, 55.0]\n",
    "\n",
    "for pdq in pdq_list:\n",
    "    pdq_filename = \"pdq_\" + str(int(pdq)) + '.csv'\n",
    "    \n",
    "    pdq_df = pd.read_csv(\"../datasets/\" + pdq_filename, index_col='Unnamed: 0')\n",
    "    target_df = np.split(pdq_df, [6], axis=1)[0]\n",
    "    daytime_df = np.split(pdq_df, [6], axis=1)[1]\n",
    "    \n",
    "    y = target_df.to_numpy()\n",
    "    X = np.concatenate((weather_data, nasdaq_data, daytime_df.to_numpy()), axis=1)\n",
    "    \n",
    "    balance_crime_training_data(X, y)\n",
    "    print(X.shape, y.shape)\n",
    "    \n",
    "    # train test split\n",
    "    \n",
    "    \n",
    "    \n",
    "    \n",
    "    "
   ]
  },
  {
   "cell_type": "code",
   "execution_count": null,
   "metadata": {},
   "outputs": [],
   "source": []
  }
 ],
 "metadata": {
  "kernelspec": {
   "display_name": "Python 3",
   "language": "python",
   "name": "python3"
  },
  "language_info": {
   "codemirror_mode": {
    "name": "ipython",
    "version": 3
   },
   "file_extension": ".py",
   "mimetype": "text/x-python",
   "name": "python",
   "nbconvert_exporter": "python",
   "pygments_lexer": "ipython3",
   "version": "3.6.5"
  }
 },
 "nbformat": 4,
 "nbformat_minor": 2
}
