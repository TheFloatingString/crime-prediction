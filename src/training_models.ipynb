{
 "cells": [
  {
   "cell_type": "code",
   "execution_count": 4,
   "metadata": {},
   "outputs": [],
   "source": [
    "import pandas as pd\n",
    "import numpy as np\n",
    "import datetime\n",
    "import os\n",
    "from sklearn.model_selection import train_test_split\n",
    "\n",
    "from keras.models import load_model\n",
    "from tensorflow.keras.models import Sequential \n",
    "from tensorflow.keras.layers import Dense, Dropout, Activation, Flatten\n",
    "from tensorflow.keras.callbacks import TensorBoard\n",
    "import time"
   ]
  },
  {
   "cell_type": "code",
   "execution_count": 5,
   "metadata": {},
   "outputs": [
    {
     "name": "stdout",
     "output_type": "stream",
     "text": [
      "(1648, 20)\n"
     ]
    }
   ],
   "source": [
    "weather_data = np.load(\"../preprocessed_data/X_train_weather.npy\")\n",
    "print(weather_data.shape)"
   ]
  },
  {
   "cell_type": "code",
   "execution_count": 6,
   "metadata": {},
   "outputs": [
    {
     "name": "stdout",
     "output_type": "stream",
     "text": [
      "1648\n"
     ]
    }
   ],
   "source": [
    "base = datetime.datetime.strptime(\"2015-01-01\", \"%Y-%m-%d\")\n",
    "end = datetime.datetime.strptime(\"2019-07-06\", \"%Y-%m-%d\")\n",
    "delta = end - base\n",
    "unique_PI_dates = [str(base + datetime.timedelta(days=x)).split(' ')[0] for x in range(delta.days + 1)]\n",
    "print(len(unique_PI_dates))"
   ]
  },
  {
   "cell_type": "code",
   "execution_count": 18,
   "metadata": {},
   "outputs": [
    {
     "name": "stdout",
     "output_type": "stream",
     "text": [
      "(1648, 23) (1648, 6)\n",
      "(1648, 23) (1648, 6)\n",
      "(1648, 23) (1648, 6)\n",
      "(1648, 23) (1648, 6)\n",
      "(1648, 23) (1648, 6)\n",
      "(1648, 23) (1648, 6)\n",
      "(1648, 23) (1648, 6)\n",
      "(1648, 23) (1648, 6)\n",
      "(1648, 23) (1648, 6)\n",
      "(1648, 23) (1648, 6)\n",
      "(1648, 23) (1648, 6)\n",
      "(1648, 23) (1648, 6)\n",
      "(1648, 23) (1648, 6)\n",
      "(1648, 23) (1648, 6)\n",
      "(1648, 23) (1648, 6)\n",
      "(1648, 23) (1648, 6)\n",
      "(1648, 23) (1648, 6)\n",
      "(1648, 23) (1648, 6)\n",
      "(1648, 23) (1648, 6)\n",
      "(1648, 23) (1648, 6)\n",
      "(1648, 23) (1648, 6)\n",
      "(1648, 23) (1648, 6)\n",
      "(1648, 23) (1648, 6)\n",
      "(1648, 23) (1648, 6)\n",
      "(1648, 23) (1648, 6)\n",
      "(1648, 23) (1648, 6)\n",
      "(1648, 23) (1648, 6)\n",
      "(1648, 23) (1648, 6)\n",
      "(1648, 23) (1648, 6)\n",
      "(1648, 23) (1648, 6)\n",
      "(1648, 23) (1648, 6)\n",
      "(1648, 23) (1648, 6)\n",
      "(1648, 23) (1648, 6)\n",
      "(1648, 23) (1648, 6)\n"
     ]
    }
   ],
   "source": [
    "pdq_list = [1.0, 3.0, 4.0, 5.0, 7.0, 8.0, 9.0, \n",
    "            10.0, 11.0, 12.0, 13.0, 15.0, 16.0, \n",
    "            20.0, 21.0, 22.0, 23.0, 24.0, 26.0, \n",
    "            27.0, 30.0, 31.0, 33.0, 35.0, 38.0, \n",
    "            39.0, 42.0, 44.0, 45.0, 46.0, 48.0, \n",
    "            49.0, 50.0, 55.0]\n",
    "\n",
    "for pdq in pdq_list:\n",
    "    pdq_filename = \"pdq_\" + str(int(pdq)) + '.csv'\n",
    "    \n",
    "    pdq_df = pd.read_csv(\"../datasets/\" + pdq_filename, index_col='Unnamed: 0')\n",
    "    target_df = np.split(pdq_df, [6], axis=1)[0]\n",
    "    daytime_df = np.split(pdq_df, [6], axis=1)[1]\n",
    "    \n",
    "    y = target_df.to_numpy()\n",
    "    X = np.concatenate((weather_data, daytime_df.to_numpy()), axis=1)\n",
    "    "
   ]
  },
  {
   "cell_type": "code",
   "execution_count": null,
   "metadata": {},
   "outputs": [],
   "source": []
  }
 ],
 "metadata": {
  "kernelspec": {
   "display_name": "Python 3",
   "language": "python",
   "name": "python3"
  },
  "language_info": {
   "codemirror_mode": {
    "name": "ipython",
    "version": 3
   },
   "file_extension": ".py",
   "mimetype": "text/x-python",
   "name": "python",
   "nbconvert_exporter": "python",
   "pygments_lexer": "ipython3",
   "version": "3.6.5"
  }
 },
 "nbformat": 4,
 "nbformat_minor": 2
}
